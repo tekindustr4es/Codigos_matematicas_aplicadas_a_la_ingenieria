{
 "cells": [
  {
   "cell_type": "code",
   "execution_count": 2,
   "id": "0e37494b",
   "metadata": {},
   "outputs": [
    {
     "name": "stdout",
     "output_type": "stream",
     "text": [
      "gradiente [-0.6300000000000001, -0.87, -1.04]; posicion [0.5 1.  1.5]\n"
     ]
    },
    {
     "data": {
      "image/png": "[encoded data removed]",
      "text/plain": [
       "<Figure size 640x480 with 1 Axes>"
      ]
     },
     "metadata": {},
     "output_type": "display_data"
    }
   ],
   "source": [
    "import numpy as np\n",
    "import matplotlib.pyplot as plt\n",
    "\n",
    "def difer(x,y,tipo=0,orden=1):\n",
    "    # tipo = (-1:Diferecia hacia atras, 0:Centrada,1:Diferencia hacia adelante )\n",
    "    # orden = (1:Primer orden, 2:Segundo orden)\n",
    "    \n",
    "    n=x.size\n",
    "    if tipo==-1: #Diferencias hacia atras\n",
    "        if orden==1:\n",
    "            return [(y[i]-y[i-1])/(x[i]-x[i-1])\\\n",
    "                    for i in range(1,n)]\n",
    "        elif orden==2:\n",
    "            return [(y[i]-2*y[i-1]+y[i-2])/(x[i]-x[i-1])**2\\\n",
    "                    for i in range(2,n)]\n",
    "        else:\n",
    "            raise ValueError ('Parametro <Orden> incorrecto')\n",
    "    elif tipo==0: #Diferencias centradas\n",
    "        if orden==1:\n",
    "            return [(y[i+1]-y[i-1])/(x[i]-x[i-1])/2\\\n",
    "                    for i in range(1,n-1)]\n",
    "        elif orden==2:\n",
    "            return [(y[i+1]-2*y[i]+y[i-1])/(x[i]-x[i-1])**2\\\n",
    "                    for i in range(1,n-1)]\n",
    "        else:\n",
    "            raise ValueError ('Parametro <Orden> incorrecto')\n",
    "    elif tipo==1: #Diferencias hacia adelante\n",
    "        if orden==1:\n",
    "            return [(y[i+1]-y[i])/(x[i+1]-x[i])\\\n",
    "                    for i in range(0,n-1)]\n",
    "        elif orden==2:\n",
    "            return [(y[i+2]-2*y[i+1]+y[i])/(x[i]-x[i-1])**2\\\n",
    "                    for i in range(0,n-2)]\n",
    "        else:\n",
    "            raise ValueError ('Parametro <Orden> incorrecto')\n",
    "    else:\n",
    "        raise ValueError ('Parametro <Tipo> incorrecto')\n",
    "\n",
    "def main():\n",
    "    # valores de posicion\n",
    "    x=np.array([0,0.5,1.0,1.5,2.0])\n",
    "    # valores de presion\n",
    "    y=np.array([1.82,1.48,1.19,0.61,0.15])\n",
    "    # Llamada al algoritmo\n",
    "    d=difer(x,y,tipo=0,orden=1)\n",
    "    print('gradiente {}; posicion {}'.format(d,x[1:4]))\n",
    "    \n",
    "    fig = plt.figure()\n",
    "    plt.plot(x[1:4],d,'o')\n",
    "    plt.title('Gradiente de la Presion')\n",
    "    plt.xlabel('Posicion z')\n",
    "    plt.ylabel('dP/dz')\n",
    "    plt.grid()\n",
    "    \n",
    "    plt.show()\n",
    "    fig.savefig(\"difer.pdf\", bbox_inches='tight')\n",
    "    \n",
    "if __name__ == \"__main__\": main()"
   ]
  },
  {
   "cell_type": "code",
   "execution_count": null,
   "id": "19c1cd7c",
   "metadata": {},
   "outputs": [],
   "source": []
  }
 ],
 "metadata": {
  "kernelspec": {
   "display_name": "Python 3 (ipykernel)",
   "language": "python",
   "name": "python3"
  },
  "language_info": {
   "codemirror_mode": {
    "name": "ipython",
    "version": 3
   },
   "file_extension": ".py",
   "mimetype": "text/x-python",
   "name": "python",
   "nbconvert_exporter": "python",
   "pygments_lexer": "ipython3",
   "version": "3.11.4"
  }
 },
 "nbformat": 4,
 "nbformat_minor": 5
}
